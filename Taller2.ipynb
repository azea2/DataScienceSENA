{
  "nbformat": 4,
  "nbformat_minor": 0,
  "metadata": {
    "colab": {
      "name": "Taller2",
      "provenance": [],
      "authorship_tag": "ABX9TyNrTvq5fzb1ipDeJJFAC0mQ",
      "include_colab_link": true
    },
    "kernelspec": {
      "name": "python3",
      "display_name": "Python 3"
    },
    "language_info": {
      "name": "python"
    }
  },
  "cells": [
    {
      "cell_type": "markdown",
      "metadata": {
        "id": "view-in-github",
        "colab_type": "text"
      },
      "source": [
        "<a href=\"https://colab.research.google.com/github/azea2/DataScienceSENA/blob/main/Taller2.ipynb\" target=\"_parent\"><img src=\"https://colab.research.google.com/assets/colab-badge.svg\" alt=\"Open In Colab\"/></a>"
      ]
    },
    {
      "cell_type": "markdown",
      "metadata": {
        "id": "HeoXKLJl7ZwX"
      },
      "source": [
        "**Taller 2**\n",
        "\n",
        "Estudiante Angela Maria Zea Mesa"
      ]
    },
    {
      "cell_type": "markdown",
      "metadata": {
        "id": "QlG_f_uIFIm8"
      },
      "source": [
        "Se solicita realizar un programa que permita identificar el nivel de cumplimiento del área de ventas de la empresa AVA. Entre los principales requerimientos se encuentran los siguientes:\n",
        "\n",
        "1. Permita ingresar la cantidad de vendedores del área de ventas.\n",
        "2. Permita ingresar la puntuación por cada uno de ellos(Escala de 1 a 10, siendo 10 mejor).\n",
        "3. El programa debe permitir identificar el vendedor con peor rendimiento y mejor rendimiento.\n",
        "4. Obtener también el promedio general del nivel de cumplimiento del área de ventas.\n",
        "\n",
        "Nota: Si hay empate en la puntuación para definir el primer y último puesto se define por orden alfabético. "
      ]
    },
    {
      "cell_type": "code",
      "metadata": {
        "id": "E5otJ8WFtE1y"
      },
      "source": [
        "#Ejercicio Taller #2\n",
        "#Empresa AVA\n",
        "#Angela Maria Zea Mesa\n",
        "\n",
        "'''\n",
        "Taller 2\n",
        "Se solicita realizar un programa que permita identificar el nivel de cumplimiento del área de ventas de la empresa AVA. Entre los principales requerimientos se encuentran los siguientes:\n",
        "\n",
        "1. Permita ingresar la cantidad de vendedores del área de ventas.\n",
        "2. Permita ingresar la puntuación por cada uno de ellos(Escala de 1 a 10, siendo 10 mejor).\n",
        "3. El programa debe permitir identificar el vendedor con peor rendimiento y mejor rendimiento.\n",
        "4. Obtener también el promedio general del nivel de cumplimiento del área de ventas.\n",
        "\n",
        "Nota: Si hay empate en la puntuación para definir el primer y último puesto se define por orden alfabético.\n",
        "'''\n",
        "\n",
        "\n",
        "#1. CAPTURA DE LA INFORMACIÓN\n",
        "# ------------------------------------------------------------------------\n",
        "print(\"Nivel de cumplimiento - área de ventas empresa AVA\")\n",
        "print(\"-----------------------------------------------------\\n\")\n",
        "\n",
        "#Lista vacía para guardar los datos el nombre y la puntuación del vendedor\n",
        "nivCumplimiento=[]  #Esta es para guardar nombre y puntuación\n",
        "punRendimiento=[]   #Esta es para guardar solo la puntuación\n",
        "punRendimiento1=sorted(punRendimiento)  #Ordenar la lista \"punRendimiento\"\n",
        "\n",
        "\n",
        "#Variable - Cantidad de vendedores\n",
        "cantVendedores=int(input(\"¿Cuántos vendedores hay actualmente? \"))\n",
        "\n",
        "\n",
        "#Solicitud de información y adición a la lista\n",
        "for x in range(cantVendedores):\n",
        "  print(\"\\n\")\n",
        "  nomVendedor=input(\"Ingrese el nombre del vendedor: \")\n",
        "  puntVendedores=int(input(\"Ingrese la puntuacion del vendedor (Escala de 1 a 10, siendo 10 mejor): \"))\n",
        "  nivCumplimiento.append((nomVendedor,puntVendedores))\n",
        "  punRendimiento.append((puntVendedores))\n",
        "\n",
        "\n",
        "\n",
        "#2. FUNCIONES\n",
        "# ------------------------------------------------------------------------\n",
        "#Función para saber cual es el que obtuvo mayor rendimiento\n",
        "def mayor(nivCumplimiento):\n",
        "  p=0\n",
        "  for x in range(1, len(nivCumplimiento)):\n",
        "    if nivCumplimiento[x][1]>nivCumplimiento[p][1]:\n",
        "      pos=x\n",
        "\n",
        "\n",
        "#Función para saber cual es el que obtuvo menor rendimiento\n",
        "def menor(nivCumplimiento):\n",
        "  p1=0\n",
        "  for x in range(1, len(nivCumplimiento)):\n",
        "    if nivCumplimiento[x][1]<nivCumplimiento[p1][1]:\n",
        "      pos1=x\n",
        "\n",
        "\n",
        "#Llamado de las funciones\n",
        "mejor=mayor(nivCumplimiento)\n",
        "peor=menor(nivCumplimiento)\n",
        "\n",
        "\n",
        "\n",
        "#4. PROMEDIO\n",
        "# ------------------------------------------------------------------------\n",
        "for x in range(1, len(punRendimiento1)):\n",
        "  sumRend=sum(punRendimiento1)\n",
        "  prom=sumRend/cantVendedores\n",
        "print(\"El promedio del nivel de cumplimiento del área de ventas es: \",prom)\n",
        "\n",
        "\n",
        "\n",
        "#5.VALIDACIÓN\n",
        "# ------------------------------------------------------------------------\n",
        "listaMejorYPeor=[]\n",
        "listaMejorYPeor.append((mejor, peor))\n",
        "\n",
        "if mejor==peor:\n",
        "  elMejor= listaMejorYPeor[0]\n",
        "  print()\n",
        "elif mejor > peor:\n",
        "  print(\"El vendedor con mejor rendimiento es: \",nivCumplimiento[pos][0])\n",
        "elif mejor < peor:\n",
        "  print(\"El vendedor con peor rendimiento es: \",nivCumplimiento[pos1][0])"
      ],
      "execution_count": null,
      "outputs": []
    }
  ]
}